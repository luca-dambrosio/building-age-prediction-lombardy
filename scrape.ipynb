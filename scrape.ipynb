{
 "cells": [
  {
   "cell_type": "markdown",
   "id": "9823bfbb-ed03-4127-b512-cd27152ed6bc",
   "metadata": {},
   "source": [
    "# Imports"
   ]
  },
  {
   "cell_type": "code",
   "execution_count": 1,
   "id": "9509b957-c320-49a9-b32e-d14c68f8af68",
   "metadata": {},
   "outputs": [],
   "source": [
    "#import packages\n",
    "import time\n",
    "import pandas as pd\n",
    "import numpy as np\n",
    "import json\n",
    "from collections import defaultdict\n",
    "\n",
    "from selenium import webdriver\n",
    "from selenium.common.exceptions import NoSuchElementException \n",
    "from selenium.webdriver.chrome.service import Service\n",
    "from selenium.webdriver.common.by import By\n",
    "from selenium.webdriver.support.ui import WebDriverWait\n",
    "from selenium.webdriver.support import expected_conditions as EC\n",
    "from selenium.common.exceptions import TimeoutException"
   ]
  },
  {
   "cell_type": "code",
   "execution_count": 2,
   "id": "5a7309d3-72e4-4b19-8d80-8e8a0a74b680",
   "metadata": {},
   "outputs": [],
   "source": [
    "#initialize chrome driver, make sure Chrome Executer with same version of your Web browser in the current folder\n",
    "driver = webdriver.Chrome()\n",
    "driver.set_window_size(1120, 1000)\n",
    "\n",
    "#url of Regione Lombardia\n",
    "url = 'https://www.lombardiabeniculturali.it/architetture/tipologie/'\n",
    "driver.get(url)"
   ]
  },
  {
   "cell_type": "markdown",
   "id": "9bcc8d8f-d2a0-4a2a-b62e-daf9239f9a9a",
   "metadata": {},
   "source": [
    "# Extracting buildings data"
   ]
  },
  {
   "cell_type": "code",
   "execution_count": 3,
   "id": "11a5d0b0-eefd-4f36-a7c4-66a73836e32a",
   "metadata": {},
   "outputs": [],
   "source": [
    "# Example\n",
    "# url = 'https://www.lombardiabeniculturali.it/architetture/schede/RL560-00089/?view=tipologie&offset=101&hid=1&sort=sort_int'"
   ]
  },
  {
   "cell_type": "code",
   "execution_count": 4,
   "id": "39fe98c9-00fc-40da-bc1b-a2e75e0e9a09",
   "metadata": {},
   "outputs": [],
   "source": [
    "def get_building_data(url):\n",
    "    \"\"\"\n",
    "    INPUT: Building url\n",
    "    OUTPUT: Updated dictionary containing as key the building of the url and as value its image together with the retrieved info.\n",
    "    \"\"\"\n",
    "    \n",
    "    # Start the web browser\n",
    "    driver.get(url) \n",
    "\n",
    "    # Building a unique identifier for the building\n",
    "    building_id = driver.find_element(By.XPATH,'.//p[@class=\"record-permalink\"]//a').get_attribute(\"href\")\n",
    "\n",
    "    # Retrieving the info\n",
    "    name = driver.find_element(By.XPATH,'.//div[@class=\"col-md-8\"]//h2').text\n",
    "    try:\n",
    "        image = driver.find_element(By.XPATH,'.//div[@class=\"popup-gallery\"]//a').get_attribute(\"href\") # sometimes missing\n",
    "    except:\n",
    "        image = None\n",
    "\n",
    "    # Iniitialize container\n",
    "    obs = {\"building_id\":building_id, \"name\":name, \"image\":image, \"address\":None, \"typology_gen\": None, \"typology_spe\":None, \"description\":None, \"date\":None}\n",
    "\n",
    "    info = driver.find_elements(By.XPATH,'.//div[@class=\"col-md-7\"]//p')\n",
    "    for el in info:\n",
    "        if el.text.split(\":\")[0] == \"Indirizzo\":\n",
    "            address = el.text.split(\":\")[1].strip()\n",
    "            obs[\"address\"] = address\n",
    "        elif el.text.split(\":\")[0] == \"Tipologia generale\":\n",
    "            typology_gen = el.text.split(\":\")[1].strip()\n",
    "            obs[\"typology_gen\"] = typology_gen\n",
    "        elif el.text.split(\":\")[0] ==  'Tipologia specifica':\n",
    "            typology_spe = el.text.split(\":\")[1].strip()\n",
    "            obs[\"typology_spe\"] = typology_spe\n",
    "        elif el.text.split(\":\")[0] ==  'Configurazione strutturale':\n",
    "            description = el.text.split(\":\")[1].strip()\n",
    "            obs[\"description\"] = description\n",
    "        elif el.text.split(\":\")[0] ==  'Epoca di costruzione':\n",
    "            date = el.text.split(\":\")[1].strip()\n",
    "            obs[\"date\"] = date\n",
    "            \n",
    "    return obs"
   ]
  },
  {
   "cell_type": "markdown",
   "id": "056c669b-86ad-4e25-8234-35c59892afcb",
   "metadata": {},
   "source": [
    "# Iterating over the pages"
   ]
  },
  {
   "cell_type": "code",
   "execution_count": 5,
   "id": "f8a01caa-bfe0-442f-a8bc-8abd940d8b81",
   "metadata": {},
   "outputs": [],
   "source": [
    "url = \"https://www.lombardiabeniculturali.it/architetture/tipologie/1/\""
   ]
  },
  {
   "cell_type": "code",
   "execution_count": 6,
   "id": "3ca74c07-b513-4b5b-889b-a23d0d04a9a3",
   "metadata": {},
   "outputs": [],
   "source": [
    "def iter_pages(url):\n",
    "    \"\"\"\n",
    "    INPUT: Initial url of the category of buildings\n",
    "    OUTPUT: Returns a list of urls of all the buildings in the category\n",
    "    \"\"\"\n",
    "    \n",
    "    driver.get(url)\n",
    "    \n",
    "    buildings_urls = [] # Store the data\n",
    "    i = 0               # Counter in case of issue\n",
    "    while True:\n",
    "        i += 1\n",
    "        # Pre-load all building URLs\n",
    "        page_buildings = driver.find_elements(By.XPATH, './/div[@class=\"work-caption\"]//a')\n",
    "        page_urls = [el.get_attribute('href') for el in page_buildings[:]]\n",
    "        buildings_urls += page_urls\n",
    "        \n",
    "        #click next page\n",
    "        try:  \n",
    "            # Wait for the element to be clickable\n",
    "            element = WebDriverWait(driver, 3).until(EC.element_to_be_clickable((By.XPATH, \".//a[@aria-label='Next']\")))\n",
    "        \n",
    "            if element.find_element(By.XPATH,\"..\").get_attribute(\"class\"):\n",
    "                print(\"this is the last page\")\n",
    "                break\n",
    "            else:\n",
    "                # Click on the element\n",
    "                driver.execute_script(\"arguments[0].click();\", element)\n",
    "                time.sleep(2)\n",
    "                        \n",
    "        # Check if an error occurred\n",
    "        except:\n",
    "            print(f\"An error occured in page: {i}\")\n",
    "\n",
    "    return buildings_urls"
   ]
  },
  {
   "cell_type": "markdown",
   "id": "b2a2696c-cfcc-48f4-a7f1-bbd34941e80d",
   "metadata": {},
   "source": [
    "# Creating the dataset for each subcategory"
   ]
  },
  {
   "cell_type": "code",
   "execution_count": 7,
   "id": "ed9be3e9-2678-427b-83b2-82ac5f3fcf1c",
   "metadata": {},
   "outputs": [
    {
     "name": "stdout",
     "output_type": "stream",
     "text": [
      "this is the last page\n",
      "Status update:\t iteration 1/6 finished\n",
      "this is the last page\n",
      "Status update:\t iteration 2/6 finished\n",
      "this is the last page\n",
      "Status update:\t iteration 3/6 finished\n",
      "this is the last page\n",
      "Status update:\t iteration 4/6 finished\n",
      "this is the last page\n",
      "Status update:\t iteration 5/6 finished\n",
      "this is the last page\n",
      "Status update:\t iteration 6/6 finished\n"
     ]
    }
   ],
   "source": [
    "for i in range(1,7):\n",
    "    url = f\"https://www.lombardiabeniculturali.it/architetture/tipologie/{i}/\"\n",
    "    urls = iter_pages(url) # all urls from that typology\n",
    "\n",
    "    data = []              # container for that typology\n",
    "    for u in urls:\n",
    "        data.append(get_building_data(u))\n",
    "        time.sleep(0.1)\n",
    "\n",
    "    # Saving as a json file \n",
    "    file_path = f\"data{i}.json\"\n",
    "    with open(file_path, 'w') as json_file:\n",
    "        json.dump(data, json_file) \n",
    "    print(f\"Status update:\\t iteration {i}/6 finished\")\n",
    "\n",
    "    time.sleep(60)"
   ]
  },
  {
   "cell_type": "code",
   "execution_count": null,
   "id": "e31cc7fb-4ce0-435a-b26c-5c58fd1e6342",
   "metadata": {},
   "outputs": [],
   "source": []
  }
 ],
 "metadata": {
  "kernelspec": {
   "display_name": "Python 3 (ipykernel)",
   "language": "python",
   "name": "python3"
  },
  "language_info": {
   "codemirror_mode": {
    "name": "ipython",
    "version": 3
   },
   "file_extension": ".py",
   "mimetype": "text/x-python",
   "name": "python",
   "nbconvert_exporter": "python",
   "pygments_lexer": "ipython3",
   "version": "3.11.7"
  }
 },
 "nbformat": 4,
 "nbformat_minor": 5
}
